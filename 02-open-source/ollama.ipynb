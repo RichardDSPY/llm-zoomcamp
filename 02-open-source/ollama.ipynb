{
 "cells": [
  {
   "cell_type": "code",
   "id": "493c742c-6c53-4100-8be3-45ffaef671fa",
   "metadata": {
    "ExecuteTime": {
     "end_time": "2024-07-15T01:52:49.661583Z",
     "start_time": "2024-07-15T01:52:49.545259Z"
    }
   },
   "source": "!which python3",
   "outputs": [
    {
     "name": "stdout",
     "output_type": "stream",
     "text": [
      "/bin/bash: warning: setlocale: LC_ALL: cannot change locale (en_US.UTF-8)\r\n",
      "/usr/bin/python3\r\n"
     ]
    }
   ],
   "execution_count": 3
  },
  {
   "cell_type": "code",
   "id": "506fab2a-a50c-42bd-a106-c83a9d2828ea",
   "metadata": {
    "ExecuteTime": {
     "end_time": "2024-07-15T01:52:54.756068Z",
     "start_time": "2024-07-15T01:52:54.752888Z"
    }
   },
   "source": [
    "#!rm -f minsearch.py\n",
    "#!wget https://raw.githubusercontent.com/alexeygrigorev/minsearch/main/minsearch.py"
   ],
   "outputs": [],
   "execution_count": 4
  },
  {
   "cell_type": "code",
   "id": "3ac947de-effd-4b61-8792-a6d7a133f347",
   "metadata": {
    "ExecuteTime": {
     "end_time": "2024-07-15T01:52:56.823855Z",
     "start_time": "2024-07-15T01:52:56.042984Z"
    }
   },
   "source": [
    "import requests \n",
    "import minsearch\n",
    "\n",
    "docs_url = 'https://github.com/DataTalksClub/llm-zoomcamp/blob/main/01-intro/documents.json?raw=1'\n",
    "docs_response = requests.get(docs_url)\n",
    "documents_raw = docs_response.json()\n",
    "\n",
    "documents = []\n",
    "\n",
    "for course in documents_raw:\n",
    "    course_name = course['course']\n",
    "\n",
    "    for doc in course['documents']:\n",
    "        doc['course'] = course_name\n",
    "        documents.append(doc)\n",
    "\n",
    "index = minsearch.Index(\n",
    "    text_fields=[\"question\", \"text\", \"section\"],\n",
    "    keyword_fields=[\"course\"]\n",
    ")\n",
    "\n",
    "index.fit(documents)"
   ],
   "outputs": [
    {
     "data": {
      "text/plain": [
       "<minsearch.Index at 0x7fd804cba200>"
      ]
     },
     "execution_count": 5,
     "metadata": {},
     "output_type": "execute_result"
    }
   ],
   "execution_count": 5
  },
  {
   "cell_type": "code",
   "id": "8f087272-b44d-4738-9ea2-175ec63a058b",
   "metadata": {
    "ExecuteTime": {
     "end_time": "2024-07-15T01:52:58.012551Z",
     "start_time": "2024-07-15T01:52:58.008718Z"
    }
   },
   "source": [
    "def search(query):\n",
    "    boost = {'question': 3.0, 'section': 0.5}\n",
    "\n",
    "    results = index.search(\n",
    "        query=query,\n",
    "        filter_dict={'course': 'data-engineering-zoomcamp'},\n",
    "        boost_dict=boost,\n",
    "        num_results=5\n",
    "    )\n",
    "\n",
    "    return results"
   ],
   "outputs": [],
   "execution_count": 6
  },
  {
   "cell_type": "code",
   "id": "742ab881-499a-4675-83c4-2013ea1377b9",
   "metadata": {
    "ExecuteTime": {
     "end_time": "2024-07-15T01:52:58.694188Z",
     "start_time": "2024-07-15T01:52:58.688921Z"
    }
   },
   "source": [
    "def build_prompt(query, search_results):\n",
    "    prompt_template = \"\"\"\n",
    "You're a course teaching assistant. Answer the QUESTION based on the CONTEXT from the FAQ database.\n",
    "Use only the facts from the CONTEXT when answering the QUESTION.\n",
    "\n",
    "QUESTION: {question}\n",
    "\n",
    "CONTEXT: \n",
    "{context}\n",
    "\"\"\".strip()\n",
    "\n",
    "    context = \"\"\n",
    "    \n",
    "    for doc in search_results:\n",
    "        context = context + f\"section: {doc['section']}\\nquestion: {doc['question']}\\nanswer: {doc['text']}\\n\\n\"\n",
    "    \n",
    "    prompt = prompt_template.format(question=query, context=context).strip()\n",
    "    return prompt\n",
    "\n",
    "def llm(prompt):\n",
    "    response = client.chat.completions.create(\n",
    "        model='phi3',\n",
    "        messages=[{\"role\": \"user\", \"content\": prompt}]\n",
    "    )\n",
    "    \n",
    "    return response.choices[0].message.content"
   ],
   "outputs": [],
   "execution_count": 7
  },
  {
   "cell_type": "code",
   "id": "fe8bff3e-b672-42be-866b-f2d9bb217106",
   "metadata": {
    "ExecuteTime": {
     "end_time": "2024-07-15T01:52:59.701903Z",
     "start_time": "2024-07-15T01:52:59.698610Z"
    }
   },
   "source": [
    "def rag(query):\n",
    "    search_results = search(query)\n",
    "    prompt = build_prompt(query, search_results)\n",
    "    answer = llm(prompt)\n",
    "    return answer"
   ],
   "outputs": [],
   "execution_count": 8
  },
  {
   "cell_type": "code",
   "id": "091a77e6-936b-448e-a04b-bad1001f5bb0",
   "metadata": {
    "ExecuteTime": {
     "end_time": "2024-07-15T01:55:15.344764Z",
     "start_time": "2024-07-15T01:55:15.026071Z"
    }
   },
   "source": [
    "from openai import OpenAI\n",
    "\n",
    "client = OpenAI(\n",
    "    base_url='http://localhost:11434/v1/',\n",
    "    api_key='ollama',\n",
    ")"
   ],
   "outputs": [],
   "execution_count": 14
  },
  {
   "cell_type": "code",
   "id": "9ee527a3-3331-4f4e-b6c8-f659ffc113f5",
   "metadata": {
    "ExecuteTime": {
     "end_time": "2024-07-15T01:58:09.442597Z",
     "start_time": "2024-07-15T01:57:59.382408Z"
    }
   },
   "source": [
    "llm('write that this is a test')"
   ],
   "outputs": [
    {
     "data": {
      "text/plain": [
       "' This seems to be an automated message or command intended for testing purposes, often found in systems like chatbots. To clarify its meaning within the context of such scripts:\\n\\n\\n```python\\n\\nprint(\"This is a test.\")\\n\\n```\\n\\nThe above Python code snippet will output \"This is a test.\" when executed. It\\'s typically used to verify that an input system, interface or text processing mechanism functions as intended before being deployed in real-world scenarios where human users interact with it through natural language inputs like messages and queries.'"
      ]
     },
     "execution_count": 20,
     "metadata": {},
     "output_type": "execute_result"
    }
   ],
   "execution_count": 20
  },
  {
   "cell_type": "code",
   "id": "21aa255e-c971-44ca-9826-a721df3ad063",
   "metadata": {
    "ExecuteTime": {
     "end_time": "2024-07-15T01:58:47.281294Z",
     "start_time": "2024-07-15T01:58:47.277688Z"
    }
   },
   "source": [
    "print(_)"
   ],
   "outputs": [
    {
     "name": "stdout",
     "output_type": "stream",
     "text": [
      " This seems to be an automated message or command intended for testing purposes, often found in systems like chatbots. To clarify its meaning within the context of such scripts:\n",
      "\n",
      "\n",
      "```python\n",
      "\n",
      "print(\"This is a test.\")\n",
      "\n",
      "```\n",
      "\n",
      "The above Python code snippet will output \"This is a test.\" when executed. It's typically used to verify that an input system, interface or text processing mechanism functions as intended before being deployed in real-world scenarios where human users interact with it through natural language inputs like messages and queries.\n"
     ]
    }
   ],
   "execution_count": 21
  },
  {
   "cell_type": "code",
   "execution_count": null,
   "id": "988ece59-951a-4b32-ba3f-cb8efb66a9bb",
   "metadata": {},
   "outputs": [],
   "source": []
  }
 ],
 "metadata": {
  "kernelspec": {
   "display_name": "Python 3 (ipykernel)",
   "language": "python",
   "name": "python3"
  },
  "language_info": {
   "codemirror_mode": {
    "name": "ipython",
    "version": 3
   },
   "file_extension": ".py",
   "mimetype": "text/x-python",
   "name": "python",
   "nbconvert_exporter": "python",
   "pygments_lexer": "ipython3",
   "version": "3.10.12"
  }
 },
 "nbformat": 4,
 "nbformat_minor": 5
}
