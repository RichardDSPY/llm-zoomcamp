{
 "cells": [
  {
   "cell_type": "code",
   "id": "493c742c-6c53-4100-8be3-45ffaef671fa",
   "metadata": {
    "ExecuteTime": {
     "end_time": "2024-07-24T01:55:00.079803Z",
     "start_time": "2024-07-24T01:54:59.959659Z"
    }
   },
   "source": "!which python3",
   "outputs": [
    {
     "name": "stdout",
     "output_type": "stream",
     "text": [
      "/bin/bash: warning: setlocale: LC_ALL: cannot change locale (en_US.UTF-8)\r\n",
      "/usr/bin/python3\r\n"
     ]
    }
   ],
   "execution_count": 1
  },
  {
   "cell_type": "code",
   "id": "506fab2a-a50c-42bd-a106-c83a9d2828ea",
   "metadata": {
    "ExecuteTime": {
     "end_time": "2024-07-15T01:52:54.756068Z",
     "start_time": "2024-07-15T01:52:54.752888Z"
    }
   },
   "source": [
    "#!rm -f minsearch.py\n",
    "#!wget https://raw.githubusercontent.com/alexeygrigorev/minsearch/main/minsearch.py"
   ],
   "outputs": [],
   "execution_count": 4
  },
  {
   "metadata": {
    "ExecuteTime": {
     "end_time": "2024-07-24T01:58:08.523719Z",
     "start_time": "2024-07-24T01:58:08.520601Z"
    }
   },
   "cell_type": "code",
   "source": [
    "# Librerias\n",
    "import requests\n",
    "from openai import OpenAI\n",
    "from elasticsearch import Elasticsearch\n",
    "from tqdm.auto import tqdm"
   ],
   "id": "7e85d3aecd8ffe7b",
   "outputs": [],
   "execution_count": 4
  },
  {
   "cell_type": "code",
   "id": "3ac947de-effd-4b61-8792-a6d7a133f347",
   "metadata": {
    "ExecuteTime": {
     "end_time": "2024-07-24T01:58:59.225578Z",
     "start_time": "2024-07-24T01:58:58.484583Z"
    }
   },
   "source": [
    "# Cargar data\n",
    "docs_url = 'https://github.com/DataTalksClub/llm-zoomcamp/blob/main/01-intro/documents.json?raw=1'\n",
    "docs_response = requests.get(docs_url)\n",
    "documents_raw = docs_response.json()\n",
    "\n",
    "documents = []\n",
    "\n",
    "for course in documents_raw:\n",
    "    course_name = course['course']\n",
    "\n",
    "    for doc in course['documents']:\n",
    "        doc['course'] = course_name\n",
    "        documents.append(doc)"
   ],
   "outputs": [],
   "execution_count": 5
  },
  {
   "metadata": {
    "ExecuteTime": {
     "end_time": "2024-07-24T01:59:39.701023Z",
     "start_time": "2024-07-24T01:59:39.602327Z"
    }
   },
   "cell_type": "code",
   "source": [
    "# Cliente ElastiSearch\n",
    "es_client = Elasticsearch('http://localhost:9200')\n",
    "# Verifica si el cliente python esta conectado a una instancia de elasticsearch\n",
    "print(es_client.ping())"
   ],
   "id": "f34ebfc5881ea2d3",
   "outputs": [
    {
     "name": "stdout",
     "output_type": "stream",
     "text": [
      "True\n"
     ]
    }
   ],
   "execution_count": 6
  },
  {
   "metadata": {
    "ExecuteTime": {
     "end_time": "2024-07-24T02:00:34.388023Z",
     "start_time": "2024-07-24T02:00:34.203455Z"
    }
   },
   "cell_type": "code",
   "source": [
    "# Index the data, the course field a keyword and the rest should be text.\n",
    "index_settings = {\n",
    "    \"settings\": {\n",
    "        \"number_of_shards\": 1,\n",
    "        \"number_of_replicas\": 0\n",
    "    },\n",
    "    \"mappings\": {\n",
    "        \"properties\": {\n",
    "            \"text\": {\"type\": \"text\"},\n",
    "            \"section\": {\"type\": \"text\"},\n",
    "            \"question\": {\"type\": \"text\"},\n",
    "            \"course\": {\"type\": \"keyword\"}\n",
    "        }\n",
    "    }\n",
    "}\n",
    "\n",
    "index_name = \"course-questions\"\n",
    "\n",
    "es_client.indices.create(index=index_name, body=index_settings)"
   ],
   "id": "bff19b5c2e263e55",
   "outputs": [
    {
     "data": {
      "text/plain": [
       "ObjectApiResponse({'acknowledged': True, 'shards_acknowledged': True, 'index': 'course-questions'})"
      ]
     },
     "execution_count": 7,
     "metadata": {},
     "output_type": "execute_result"
    }
   ],
   "execution_count": 7
  },
  {
   "metadata": {
    "ExecuteTime": {
     "end_time": "2024-07-24T02:00:50.245460Z",
     "start_time": "2024-07-24T02:00:43.558156Z"
    }
   },
   "cell_type": "code",
   "source": [
    "# Add data to elastic\n",
    "for doc in tqdm(documents):\n",
    "    es_client.index(index=index_name, document=doc)"
   ],
   "id": "497e85881f619bf4",
   "outputs": [
    {
     "data": {
      "text/plain": [
       "  0%|          | 0/948 [00:00<?, ?it/s]"
      ],
      "application/vnd.jupyter.widget-view+json": {
       "version_major": 2,
       "version_minor": 0,
       "model_id": "655174e10cf045508cf4c5e3a4d7e50e"
      }
     },
     "metadata": {},
     "output_type": "display_data"
    }
   ],
   "execution_count": 8
  },
  {
   "metadata": {
    "ExecuteTime": {
     "end_time": "2024-07-24T02:11:52.627322Z",
     "start_time": "2024-07-24T02:11:52.622971Z"
    }
   },
   "cell_type": "code",
   "source": [
    "def elastic_search(query):\n",
    "    search_query = {\n",
    "        \"size\": 5,\n",
    "        \"query\": {\n",
    "            \"bool\": {\n",
    "                \"must\": {\n",
    "                    \"multi_match\": {\n",
    "                        \"query\": query,\n",
    "                        \"fields\": [\"question^3\", \"text\", \"section\"],\n",
    "                        \"type\": \"best_fields\"\n",
    "                    }\n",
    "                },\n",
    "                \"filter\": {\n",
    "                    \"term\": {\n",
    "                        \"course\": \"data-engineering-zoomcamp\"\n",
    "                    }\n",
    "                }\n",
    "            }\n",
    "        }\n",
    "    }\n",
    "\n",
    "    response = es_client.search(index=index_name, body=search_query)\n",
    "\n",
    "    result_docs = []\n",
    "\n",
    "    for hit in response['hits']['hits']:\n",
    "        result_docs.append(hit['_source'])\n",
    "\n",
    "    return result_docs"
   ],
   "id": "56232dc10455877e",
   "outputs": [],
   "execution_count": 24
  },
  {
   "cell_type": "code",
   "id": "742ab881-499a-4675-83c4-2013ea1377b9",
   "metadata": {
    "ExecuteTime": {
     "end_time": "2024-07-24T02:03:28.630182Z",
     "start_time": "2024-07-24T02:03:28.626484Z"
    }
   },
   "source": [
    "def build_prompt(query, search_results):\n",
    "    prompt_template = \"\"\"\n",
    "You're a course teaching assistant. Answer the QUESTION based on the CONTEXT from the FAQ database.\n",
    "Use only the facts from the CONTEXT when answering the QUESTION.\n",
    "\n",
    "QUESTION: {question}\n",
    "\n",
    "CONTEXT: \n",
    "{context}\n",
    "\"\"\".strip()\n",
    "\n",
    "    context = \"\"\n",
    "    \n",
    "    for doc in search_results:\n",
    "        context = context + f\"section: {doc['section']}\\nquestion: {doc['question']}\\nanswer: {doc['text']}\\n\\n\"\n",
    "    \n",
    "    prompt = prompt_template.format(question=query, context=context).strip()\n",
    "    return prompt"
   ],
   "outputs": [],
   "execution_count": 10
  },
  {
   "metadata": {
    "ExecuteTime": {
     "end_time": "2024-07-24T02:03:30.568381Z",
     "start_time": "2024-07-24T02:03:30.564785Z"
    }
   },
   "cell_type": "code",
   "source": [
    "def llm(prompt):\n",
    "    response = client.chat.completions.create(\n",
    "        model='phi3',\n",
    "        messages=[{\"role\": \"user\", \"content\": prompt}]\n",
    "    )\n",
    "\n",
    "    return response.choices[0].message.content"
   ],
   "id": "bf6f28867e137c86",
   "outputs": [],
   "execution_count": 11
  },
  {
   "cell_type": "code",
   "id": "fe8bff3e-b672-42be-866b-f2d9bb217106",
   "metadata": {
    "ExecuteTime": {
     "end_time": "2024-07-24T02:03:53.895591Z",
     "start_time": "2024-07-24T02:03:53.892223Z"
    }
   },
   "source": [
    "def rag(query):\n",
    "    search_results = elastic_search(query)\n",
    "    prompt = build_prompt(query, search_results)\n",
    "    answer = llm(prompt)\n",
    "    return answer"
   ],
   "outputs": [],
   "execution_count": 12
  },
  {
   "cell_type": "code",
   "id": "091a77e6-936b-448e-a04b-bad1001f5bb0",
   "metadata": {
    "ExecuteTime": {
     "end_time": "2024-07-24T02:03:55.779733Z",
     "start_time": "2024-07-24T02:03:55.752960Z"
    }
   },
   "source": [
    "from openai import OpenAI\n",
    "\n",
    "client = OpenAI(\n",
    "    base_url='http://localhost:11434/v1/',\n",
    "    api_key='ollama',\n",
    ")"
   ],
   "outputs": [],
   "execution_count": 13
  },
  {
   "metadata": {
    "ExecuteTime": {
     "end_time": "2024-07-24T03:30:17.303358Z",
     "start_time": "2024-07-24T03:30:17.297764Z"
    }
   },
   "cell_type": "code",
   "source": "query = \"I just discovered the course. Can I still join it\"",
   "id": "322a1762d9989238",
   "outputs": [],
   "execution_count": 27
  },
  {
   "cell_type": "code",
   "id": "9ee527a3-3331-4f4e-b6c8-f659ffc113f5",
   "metadata": {
    "ExecuteTime": {
     "end_time": "2024-07-24T03:30:24.086599Z",
     "start_time": "2024-07-24T03:30:18.051284Z"
    }
   },
   "source": "rag(query)",
   "outputs": [
    {
     "data": {
      "text/plain": [
       "\" Yes, you are still eligible to submit your projects even if you discover the course after its official start date as long as it's within a reasonable timeframe and you can complete all work on time.\\n\\nJust keep in mind that there will be deadlines for turning in final project submissions, so plan ahead accordingly!\""
      ]
     },
     "execution_count": 28,
     "metadata": {},
     "output_type": "execute_result"
    }
   ],
   "execution_count": 28
  },
  {
   "cell_type": "code",
   "id": "21aa255e-c971-44ca-9826-a721df3ad063",
   "metadata": {
    "ExecuteTime": {
     "end_time": "2024-07-24T03:30:33.336460Z",
     "start_time": "2024-07-24T03:30:33.332616Z"
    }
   },
   "source": [
    "print(_)"
   ],
   "outputs": [
    {
     "name": "stdout",
     "output_type": "stream",
     "text": [
      " Yes, you are still eligible to submit your projects even if you discover the course after its official start date as long as it's within a reasonable timeframe and you can complete all work on time.\n",
      "\n",
      "Just keep in mind that there will be deadlines for turning in final project submissions, so plan ahead accordingly!\n"
     ]
    }
   ],
   "execution_count": 29
  },
  {
   "metadata": {},
   "cell_type": "markdown",
   "source": "Un punto a tener en cuenta en que nuestra query está en inglés por lo cual si nosotros ponemos un texto en español la busqueda segun elasticsearch muy probablemente nos devolvera vacio y la respuesta de RAG no tendrá sentido. Así que debe hacerse la query según el idioma de la documentación adicional donde querramos buscar.",
   "id": "45ba1d383ceb2d62"
  },
  {
   "metadata": {},
   "cell_type": "code",
   "outputs": [],
   "execution_count": null,
   "source": "",
   "id": "5f52da9fa599b1ab"
  }
 ],
 "metadata": {
  "kernelspec": {
   "display_name": "Python 3 (ipykernel)",
   "language": "python",
   "name": "python3"
  },
  "language_info": {
   "codemirror_mode": {
    "name": "ipython",
    "version": 3
   },
   "file_extension": ".py",
   "mimetype": "text/x-python",
   "name": "python",
   "nbconvert_exporter": "python",
   "pygments_lexer": "ipython3",
   "version": "3.10.12"
  }
 },
 "nbformat": 4,
 "nbformat_minor": 5
}
