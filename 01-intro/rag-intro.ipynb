{
 "cells": [
  {
   "cell_type": "code",
   "id": "63b0fd25-41a2-48ad-b9bf-3f1265308bd4",
   "metadata": {
    "ExecuteTime": {
     "end_time": "2024-07-06T23:10:19.069327Z",
     "start_time": "2024-07-06T23:10:17.304965Z"
    }
   },
   "source": [
    "import minsearch\n",
    "import json\n",
    "\n",
    "import openai\n",
    "from openai import OpenAI\n",
    "\n",
    "import os\n",
    "\n",
    "from dotenv import load_dotenv\n",
    "load_dotenv('../.env')\n",
    "\n",
    "from elasticsearch import Elasticsearch\n",
    "\n",
    "from tqdm.auto import tqdm"
   ],
   "outputs": [
    {
     "name": "stderr",
     "output_type": "stream",
     "text": [
      "C:\\Users\\richa\\OneDrive\\Documentos\\Cursos\\DataTalksClub\\llm-zoomcamp\\venv\\Lib\\site-packages\\tqdm\\auto.py:21: TqdmWarning: IProgress not found. Please update jupyter and ipywidgets. See https://ipywidgets.readthedocs.io/en/stable/user_install.html\n",
      "  from .autonotebook import tqdm as notebook_tqdm\n"
     ]
    }
   ],
   "execution_count": 1
  },
  {
   "cell_type": "code",
   "id": "9b37cce2-ed84-408b-9106-d61360aa82c9",
   "metadata": {
    "ExecuteTime": {
     "end_time": "2024-07-06T23:10:24.191798Z",
     "start_time": "2024-07-06T23:10:24.186031Z"
    }
   },
   "source": [
    "with open('documents.json', 'rt') as f_in:\n",
    "    docs_raw = json.load(f_in)"
   ],
   "outputs": [],
   "execution_count": 2
  },
  {
   "cell_type": "code",
   "id": "42b9b1f9-3c90-42b0-beb4-cb419f9cdcea",
   "metadata": {
    "ExecuteTime": {
     "end_time": "2024-07-06T23:11:01.813296Z",
     "start_time": "2024-07-06T23:11:01.810277Z"
    }
   },
   "source": [
    "documents = []\n",
    "\n",
    "for course_dict in docs_raw:\n",
    "    for doc in course_dict['documents']:\n",
    "        doc['course'] = course_dict['course']\n",
    "        documents.append(doc)"
   ],
   "outputs": [],
   "execution_count": 3
  },
  {
   "cell_type": "code",
   "id": "57de60e5-b96c-499c-a7cf-0f30fc33b324",
   "metadata": {
    "ExecuteTime": {
     "end_time": "2024-07-06T23:11:02.097262Z",
     "start_time": "2024-07-06T23:11:02.092019Z"
    }
   },
   "source": [
    "documents[0]"
   ],
   "outputs": [
    {
     "data": {
      "text/plain": [
       "{'text': \"The purpose of this document is to capture frequently asked technical questions\\nThe exact day and hour of the course will be 15th Jan 2024 at 17h00. The course will start with the first  “Office Hours'' live.1\\nSubscribe to course public Google Calendar (it works from Desktop only).\\nRegister before the course starts using this link.\\nJoin the course Telegram channel with announcements.\\nDon’t forget to register in DataTalks.Club's Slack and join the channel.\",\n",
       " 'section': 'General course-related questions',\n",
       " 'question': 'Course - When will the course start?',\n",
       " 'course': 'data-engineering-zoomcamp'}"
      ]
     },
     "execution_count": 4,
     "metadata": {},
     "output_type": "execute_result"
    }
   ],
   "execution_count": 4
  },
  {
   "cell_type": "markdown",
   "id": "aa7bbc68",
   "metadata": {},
   "source": [
    "# Simple Search"
   ]
  },
  {
   "cell_type": "markdown",
   "id": "b2726d00",
   "metadata": {},
   "source": [
    "Se crea una función simple que utiliza TF-IDF para llevar las palabras a un espacio vectorial y luego utilizar la similitud de coseno para realizar busqueda similar segun la consulta dada."
   ]
  },
  {
   "cell_type": "code",
   "id": "c499838b-73b3-44be-8ba6-f46d3693aa59",
   "metadata": {
    "ExecuteTime": {
     "end_time": "2024-07-06T23:12:20.113458Z",
     "start_time": "2024-07-06T23:12:20.060196Z"
    }
   },
   "source": [
    "index = minsearch.Index(\n",
    "    text_fields=[\"question\", \"text\", \"section\"],\n",
    "    keyword_fields=[\"course\"]\n",
    ")\n",
    "index.fit(documents)"
   ],
   "outputs": [
    {
     "data": {
      "text/plain": [
       "<minsearch.Index at 0x2320ef73d50>"
      ]
     },
     "execution_count": 5,
     "metadata": {},
     "output_type": "execute_result"
    }
   ],
   "execution_count": 5
  },
  {
   "cell_type": "code",
   "id": "5acc4a49",
   "metadata": {
    "ExecuteTime": {
     "end_time": "2024-07-06T23:12:20.858878Z",
     "start_time": "2024-07-06T23:12:20.851535Z"
    }
   },
   "source": [
    "q = 'the course has already started, can I still enroll?'\n",
    "\n",
    "boost = {'question': 3.0, 'section': 0.5}\n",
    "filter = {'course': 'data-engineering-zoomcamp'}\n",
    "\n",
    "results = index.search(\n",
    "    query=q,\n",
    "    filter_dict=filter,\n",
    "    boost_dict=boost,\n",
    "    num_results=3\n",
    ")"
   ],
   "outputs": [],
   "execution_count": 6
  },
  {
   "cell_type": "code",
   "id": "c3fe8cd4",
   "metadata": {
    "ExecuteTime": {
     "end_time": "2024-07-06T23:12:25.981272Z",
     "start_time": "2024-07-06T23:12:25.977203Z"
    }
   },
   "source": [
    "results"
   ],
   "outputs": [
    {
     "data": {
      "text/plain": [
       "[{'text': \"Yes, even if you don't register, you're still eligible to submit the homeworks.\\nBe aware, however, that there will be deadlines for turning in the final projects. So don't leave everything for the last minute.\",\n",
       "  'section': 'General course-related questions',\n",
       "  'question': 'Course - Can I still join the course after the start date?',\n",
       "  'course': 'data-engineering-zoomcamp'},\n",
       " {'text': 'Yes, we will keep all the materials after the course finishes, so you can follow the course at your own pace after it finishes.\\nYou can also continue looking at the homeworks and continue preparing for the next cohort. I guess you can also start working on your final capstone project.',\n",
       "  'section': 'General course-related questions',\n",
       "  'question': 'Course - Can I follow the course after it finishes?',\n",
       "  'course': 'data-engineering-zoomcamp'},\n",
       " {'text': \"The purpose of this document is to capture frequently asked technical questions\\nThe exact day and hour of the course will be 15th Jan 2024 at 17h00. The course will start with the first  “Office Hours'' live.1\\nSubscribe to course public Google Calendar (it works from Desktop only).\\nRegister before the course starts using this link.\\nJoin the course Telegram channel with announcements.\\nDon’t forget to register in DataTalks.Club's Slack and join the channel.\",\n",
       "  'section': 'General course-related questions',\n",
       "  'question': 'Course - When will the course start?',\n",
       "  'course': 'data-engineering-zoomcamp'}]"
      ]
     },
     "execution_count": 7,
     "metadata": {},
     "output_type": "execute_result"
    }
   ],
   "execution_count": 7
  },
  {
   "cell_type": "markdown",
   "id": "e83282f9",
   "metadata": {},
   "source": [
    "# OPEANAI"
   ]
  },
  {
   "cell_type": "markdown",
   "id": "c1948013",
   "metadata": {},
   "source": [
    "Se usa la busqueda simple para armar el contexto de mi pregunta la cual será pasada al promt del LLM"
   ]
  },
  {
   "cell_type": "code",
   "id": "ef8e9cdc-dfd4-4e54-a332-4b9bde4e6047",
   "metadata": {
    "ExecuteTime": {
     "end_time": "2024-07-06T23:12:47.387676Z",
     "start_time": "2024-07-06T23:12:47.146110Z"
    }
   },
   "source": [
    "OPENAI_API_KEY: str = os.getenv('API_KEY')\n",
    "\n",
    "client = OpenAI(api_key=OPENAI_API_KEY)"
   ],
   "outputs": [],
   "execution_count": 8
  },
  {
   "cell_type": "code",
   "id": "e7da9664-ecb3-4d89-87da-9b2b942444d0",
   "metadata": {
    "ExecuteTime": {
     "end_time": "2024-07-06T23:12:49.266027Z",
     "start_time": "2024-07-06T23:12:47.492739Z"
    }
   },
   "source": [
    "response = client.chat.completions.create(\n",
    "    model='gpt-3.5-turbo',\n",
    "    messages=[{\"role\": \"user\", \"content\": q}]\n",
    ")\n",
    "\n",
    "response.choices[0].message.content"
   ],
   "outputs": [
    {
     "data": {
      "text/plain": [
       "'It depends on the policies of the institution offering the course. Some institutions may allow late enrollment or joining the course after it has started, while others may have strict deadlines for enrollment. It is best to contact the institution offering the course directly to inquire about their enrollment policies and see if it is possible to still enroll.'"
      ]
     },
     "execution_count": 9,
     "metadata": {},
     "output_type": "execute_result"
    }
   ],
   "execution_count": 9
  },
  {
   "cell_type": "code",
   "id": "b21237c3-80e9-429c-a089-d45428087046",
   "metadata": {
    "ExecuteTime": {
     "end_time": "2024-07-06T23:14:05.481978Z",
     "start_time": "2024-07-06T23:14:05.478823Z"
    }
   },
   "source": [
    "def search(query: str):\n",
    "    boost = {'question': 3.0, 'section': 1}\n",
    "    filter = {'course': 'data-engineering-zoomcamp'}\n",
    "\n",
    "    results = index.search(\n",
    "        query=query,\n",
    "        filter_dict=filter,\n",
    "        boost_dict=boost,\n",
    "        num_results=5\n",
    "    )\n",
    "\n",
    "    return results"
   ],
   "outputs": [],
   "execution_count": 10
  },
  {
   "cell_type": "code",
   "id": "8cc5784e-6515-42e5-be62-8fb915df1088",
   "metadata": {
    "ExecuteTime": {
     "end_time": "2024-07-06T23:14:17.605691Z",
     "start_time": "2024-07-06T23:14:17.601511Z"
    }
   },
   "source": [
    "def build_prompt(query: str, search_results):\n",
    "    prompt_template = \"\"\"\n",
    "You're a course teaching assistant. Answer the QUESTION based on the CONTEXT from the FAQ database.\n",
    "Use only the facts from the CONTEXT when answering the QUESTION.\n",
    "\n",
    "QUESTION: {question}\n",
    "\n",
    "CONTEXT: \n",
    "{context}\n",
    "\"\"\".strip()\n",
    "\n",
    "    context = \"\"\n",
    "    \n",
    "    for doc in search_results:\n",
    "        context = context + f\"section: {doc['section']}\\nquestion: {doc['question']}\\nanswer: {doc['text']}\\n\\n\"\n",
    "    \n",
    "    prompt = prompt_template.format(question=query, context=context).strip()\n",
    "    return prompt"
   ],
   "outputs": [],
   "execution_count": 11
  },
  {
   "cell_type": "code",
   "id": "97d35dec-c25f-472d-b961-20d5c30902ae",
   "metadata": {
    "ExecuteTime": {
     "end_time": "2024-07-06T23:14:43.963642Z",
     "start_time": "2024-07-06T23:14:43.960511Z"
    }
   },
   "source": [
    "def llm(prompt):\n",
    "    response = client.chat.completions.create(\n",
    "        model='gpt-3.5-turbo',\n",
    "        messages=[{\"role\": \"user\", \"content\": prompt}]\n",
    "    )\n",
    "    \n",
    "    return response.choices[0].message.content"
   ],
   "outputs": [],
   "execution_count": 12
  },
  {
   "cell_type": "code",
   "id": "8602f40b-ad3b-49c9-b3cc-051a79c888bc",
   "metadata": {
    "ExecuteTime": {
     "end_time": "2024-07-06T23:14:48.402635Z",
     "start_time": "2024-07-06T23:14:48.399007Z"
    }
   },
   "source": [
    "query = 'how do I run kafka?'\n",
    "\n",
    "def rag(query: str):\n",
    "    search_results = search(query)\n",
    "    prompt = build_prompt(query, search_results)\n",
    "    answer = llm(prompt)\n",
    "    return answer"
   ],
   "outputs": [],
   "execution_count": 13
  },
  {
   "cell_type": "code",
   "id": "e4ae964e",
   "metadata": {
    "ExecuteTime": {
     "end_time": "2024-07-06T23:14:53.007074Z",
     "start_time": "2024-07-06T23:14:49.926778Z"
    }
   },
   "source": [
    "rag(query)"
   ],
   "outputs": [
    {
     "data": {
      "text/plain": [
       "'To run Kafka, you can follow these steps based on the provided context:\\n\\n- For Java Kafka: In the project directory, run the command `java -cp build/libs/<jar_name>-1.0-SNAPSHOT.jar:out src/main/java/org/example/JsonProducer.java`\\n- For Python Kafka: If you encounter a \"Module not found\" error when trying to run producer.py, create a virtual environment, activate it, and install the required packages using the instructions provided by Alexey.\\n- If you receive a `./build.sh: Permission denied` error, run `chmod +x build.sh` in the terminal in the same directory.\\n- If you encounter the error `kafka.errors.NoBrokersAvailable: NoBrokersAvailable`, check if your Kafka broker docker container is running by using `docker ps` and start all instances in the docker compose yaml file folder with `docker-compose up -d`.\\n- To check why the Spark master connection fails when running `./spark-submit.sh streaming.py`, start a new terminal, check the CONTAINER ID of the spark-master container with `docker ps`, and then access the container to view the logs using `docker exec -it <spark_master_container_id> bash` and `cat logs/spark-master.out`. Finally, investigate the error message to find a solution.'"
      ]
     },
     "execution_count": 14,
     "metadata": {},
     "output_type": "execute_result"
    }
   ],
   "execution_count": 14
  },
  {
   "cell_type": "code",
   "id": "385b012f-4905-422d-8d7c-3d542dfe5a7c",
   "metadata": {
    "ExecuteTime": {
     "end_time": "2024-07-06T23:15:05.484752Z",
     "start_time": "2024-07-06T23:15:04.160868Z"
    }
   },
   "source": [
    "rag('the course has already started, can I still enroll?')"
   ],
   "outputs": [
    {
     "data": {
      "text/plain": [
       "\"Based on the information provided in the context, yes, you can still enroll in the course after the start date. Even if you don't register, you are still eligible to submit the homeworks. However, there will be deadlines for turning in the final projects, so it is recommended not to leave everything for the last minute.\""
      ]
     },
     "execution_count": 15,
     "metadata": {},
     "output_type": "execute_result"
    }
   ],
   "execution_count": 15
  },
  {
   "cell_type": "markdown",
   "id": "d9930424",
   "metadata": {},
   "source": [
    "# ElasticSearch"
   ]
  },
  {
   "cell_type": "code",
   "id": "a78df1cc-5a5a-40b4-b673-19c7f0319453",
   "metadata": {
    "ExecuteTime": {
     "end_time": "2024-07-06T23:15:07.732527Z",
     "start_time": "2024-07-06T23:15:07.662170Z"
    }
   },
   "source": [
    "es_client = Elasticsearch('http://localhost:9200')\n",
    "# Verifica si el cliente python esta conectado a una instancia de elasticsearch\n",
    "print(es_client.ping())"
   ],
   "outputs": [
    {
     "name": "stdout",
     "output_type": "stream",
     "text": [
      "True\n"
     ]
    }
   ],
   "execution_count": 16
  },
  {
   "cell_type": "code",
   "id": "c9367c18-41ad-495e-9920-1a0c552f0d18",
   "metadata": {
    "ExecuteTime": {
     "end_time": "2024-07-06T23:15:09.504074Z",
     "start_time": "2024-07-06T23:15:09.335425Z"
    }
   },
   "source": [
    "index_settings = {\n",
    "    \"settings\": {\n",
    "        \"number_of_shards\": 1,\n",
    "        \"number_of_replicas\": 0\n",
    "    },\n",
    "    \"mappings\": {\n",
    "        \"properties\": {\n",
    "            \"text\": {\"type\": \"text\"},\n",
    "            \"section\": {\"type\": \"text\"},\n",
    "            \"question\": {\"type\": \"text\"},\n",
    "            \"course\": {\"type\": \"keyword\"} \n",
    "        }\n",
    "    }\n",
    "}\n",
    "\n",
    "index_name = \"course-questions\"\n",
    "\n",
    "es_client.indices.create(index=index_name, body=index_settings)"
   ],
   "outputs": [
    {
     "data": {
      "text/plain": [
       "ObjectApiResponse({'acknowledged': True, 'shards_acknowledged': True, 'index': 'course-questions'})"
      ]
     },
     "execution_count": 17,
     "metadata": {},
     "output_type": "execute_result"
    }
   ],
   "execution_count": 17
  },
  {
   "cell_type": "code",
   "id": "70fe3c97-916d-42c0-bd7b-4f42d9056409",
   "metadata": {
    "ExecuteTime": {
     "end_time": "2024-07-06T23:16:11.296056Z",
     "start_time": "2024-07-06T23:15:22.675100Z"
    }
   },
   "source": [
    "for doc in tqdm(documents):\n",
    "    es_client.index(index=index_name, document=doc)"
   ],
   "outputs": [
    {
     "name": "stderr",
     "output_type": "stream",
     "text": [
      "100%|██████████| 948/948 [00:48<00:00, 19.50it/s]\n"
     ]
    }
   ],
   "execution_count": 18
  },
  {
   "cell_type": "code",
   "id": "f1bc1244-b8dc-4228-8171-c0507004db93",
   "metadata": {
    "ExecuteTime": {
     "end_time": "2024-07-06T23:16:18.039181Z",
     "start_time": "2024-07-06T23:16:18.035957Z"
    }
   },
   "source": [
    "query = 'the course has already started, can I still enroll?'"
   ],
   "outputs": [],
   "execution_count": 19
  },
  {
   "cell_type": "code",
   "id": "7c72e000-910b-4fb5-aa88-2561e7bc39f2",
   "metadata": {
    "ExecuteTime": {
     "end_time": "2024-07-06T23:16:18.538581Z",
     "start_time": "2024-07-06T23:16:18.534477Z"
    }
   },
   "source": [
    "def elastic_search(query):\n",
    "    search_query = {\n",
    "        \"size\": 5,\n",
    "        \"query\": {\n",
    "            \"bool\": {\n",
    "                \"must\": {\n",
    "                    \"multi_match\": {\n",
    "                        \"query\": query,\n",
    "                        \"fields\": [\"question^3\", \"text\", \"section\"],\n",
    "                        \"type\": \"best_fields\"\n",
    "                    }\n",
    "                },\n",
    "                \"filter\": {\n",
    "                    \"term\": {\n",
    "                        \"course\": \"data-engineering-zoomcamp\"\n",
    "                    }\n",
    "                }\n",
    "            }\n",
    "        }\n",
    "    }\n",
    "\n",
    "    response = es_client.search(index=index_name, body=search_query)\n",
    "    \n",
    "    result_docs = []\n",
    "    \n",
    "    for hit in response['hits']['hits']:\n",
    "        result_docs.append(hit['_source'])\n",
    "    \n",
    "    return result_docs"
   ],
   "outputs": [],
   "execution_count": 20
  },
  {
   "cell_type": "code",
   "id": "81abecbc-eb6b-428f-ab7d-7e21f58b64de",
   "metadata": {
    "ExecuteTime": {
     "end_time": "2024-07-06T23:16:19.216648Z",
     "start_time": "2024-07-06T23:16:19.213434Z"
    }
   },
   "source": [
    "def rag(query):\n",
    "    search_results = elastic_search(query)\n",
    "    prompt = build_prompt(query, search_results)\n",
    "    answer = llm(prompt)\n",
    "    return answer"
   ],
   "outputs": [],
   "execution_count": 21
  },
  {
   "cell_type": "code",
   "id": "ccb1e7d6",
   "metadata": {
    "ExecuteTime": {
     "end_time": "2024-07-06T23:16:25.840144Z",
     "start_time": "2024-07-06T23:16:25.835809Z"
    }
   },
   "source": [
    "query"
   ],
   "outputs": [
    {
     "data": {
      "text/plain": [
       "'the course has already started, can I still enroll?'"
      ]
     },
     "execution_count": 22,
     "metadata": {},
     "output_type": "execute_result"
    }
   ],
   "execution_count": 22
  },
  {
   "cell_type": "code",
   "id": "6e13ab14",
   "metadata": {
    "ExecuteTime": {
     "end_time": "2024-07-06T23:16:26.626917Z",
     "start_time": "2024-07-06T23:16:26.062306Z"
    }
   },
   "source": [
    "elastic_search(query)"
   ],
   "outputs": [
    {
     "data": {
      "text/plain": [
       "[{'text': \"Yes, even if you don't register, you're still eligible to submit the homeworks.\\nBe aware, however, that there will be deadlines for turning in the final projects. So don't leave everything for the last minute.\",\n",
       "  'section': 'General course-related questions',\n",
       "  'question': 'Course - Can I still join the course after the start date?',\n",
       "  'course': 'data-engineering-zoomcamp'},\n",
       " {'text': 'You can start by installing and setting up all the dependencies and requirements:\\nGoogle cloud account\\nGoogle Cloud SDK\\nPython 3 (installed with Anaconda)\\nTerraform\\nGit\\nLook over the prerequisites and syllabus to see if you are comfortable with these subjects.',\n",
       "  'section': 'General course-related questions',\n",
       "  'question': 'Course - What can I do before the course starts?',\n",
       "  'course': 'data-engineering-zoomcamp'},\n",
       " {'text': 'Yes, we will keep all the materials after the course finishes, so you can follow the course at your own pace after it finishes.\\nYou can also continue looking at the homeworks and continue preparing for the next cohort. I guess you can also start working on your final capstone project.',\n",
       "  'section': 'General course-related questions',\n",
       "  'question': 'Course - Can I follow the course after it finishes?',\n",
       "  'course': 'data-engineering-zoomcamp'},\n",
       " {'text': 'Yes, the slack channel remains open and you can ask questions there. But always sDocker containers exit code w search the channel first and second, check the FAQ (this document), most likely all your questions are already answered here.\\nYou can also tag the bot @ZoomcampQABot to help you conduct the search, but don’t rely on its answers 100%, it is pretty good though.',\n",
       "  'section': 'General course-related questions',\n",
       "  'question': 'Course - Can I get support if I take the course in the self-paced mode?',\n",
       "  'course': 'data-engineering-zoomcamp'},\n",
       " {'text': \"You don't need it. You're accepted. You can also just start learning and submitting homework without registering. It is not checked against any registered list. Registration is just to gauge interest before the start date.\",\n",
       "  'section': 'General course-related questions',\n",
       "  'question': 'Course - I have registered for the Data Engineering Bootcamp. When can I expect to receive the confirmation email?',\n",
       "  'course': 'data-engineering-zoomcamp'}]"
      ]
     },
     "execution_count": 23,
     "metadata": {},
     "output_type": "execute_result"
    }
   ],
   "execution_count": 23
  },
  {
   "cell_type": "code",
   "id": "5a7b8abc",
   "metadata": {
    "ExecuteTime": {
     "end_time": "2024-07-06T23:16:28.525652Z",
     "start_time": "2024-07-06T23:16:27.050929Z"
    }
   },
   "source": [
    "rag(query)"
   ],
   "outputs": [
    {
     "data": {
      "text/plain": [
       "'Based on the information provided, yes, you can still enroll in the course even if it has already started. However, be aware that there will be deadlines for turning in the final projects, so it is recommended not to leave everything for the last minute. You can start learning and submitting homework without registering, as registration is just to gauge interest before the start date.'"
      ]
     },
     "execution_count": 24,
     "metadata": {},
     "output_type": "execute_result"
    }
   ],
   "execution_count": 24
  },
  {
   "cell_type": "code",
   "execution_count": null,
   "id": "d8095274-c9cd-4fd5-80d2-069fc951834f",
   "metadata": {},
   "outputs": [],
   "source": []
  }
 ],
 "metadata": {
  "kernelspec": {
   "display_name": "Python 3 (ipykernel)",
   "language": "python",
   "name": "python3"
  },
  "language_info": {
   "codemirror_mode": {
    "name": "ipython",
    "version": 3
   },
   "file_extension": ".py",
   "mimetype": "text/x-python",
   "name": "python",
   "nbconvert_exporter": "python",
   "pygments_lexer": "ipython3",
   "version": "3.11.7"
  }
 },
 "nbformat": 4,
 "nbformat_minor": 5
}
